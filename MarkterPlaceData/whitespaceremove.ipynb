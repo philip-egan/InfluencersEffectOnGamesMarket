{
 "cells": [
  {
   "cell_type": "code",
   "execution_count": 167,
   "metadata": {},
   "outputs": [],
   "source": [
    "import pandas as pd\n",
    "import re\n",
    "import json\n",
    "from os import listdir\n",
    "from os.path import isfile, join"
   ]
  },
  {
   "cell_type": "markdown",
   "metadata": {},
   "source": [
    "this was used to change data in the item names to get the requests in the correct format that allows it to be used in the item get requests"
   ]
  },
  {
   "cell_type": "code",
   "execution_count": 168,
   "metadata": {},
   "outputs": [
    {
     "name": "stdout",
     "output_type": "stream",
     "text": [
      "218\n"
     ]
    }
   ],
   "source": [
    "onlyfiles = [f for f in listdir(\"marketplaceFiles/rawdata/\") if isfile(join(\"marketplaceFiles/rawdata/\", f))]\n",
    "print(len(onlyfiles))"
   ]
  },
  {
   "cell_type": "code",
   "execution_count": 169,
   "metadata": {},
   "outputs": [
    {
     "name": "stdout",
     "output_type": "stream",
     "text": [
      "843660.txt\n"
     ]
    }
   ],
   "source": [
    "print(onlyfiles[189])"
   ]
  },
  {
   "cell_type": "code",
   "execution_count": 170,
   "metadata": {
    "scrolled": true
   },
   "outputs": [
    {
     "name": "stdout",
     "output_type": "stream",
     "text": [
      "120\n",
      "121\n",
      "122\n",
      "123\n",
      "124\n",
      "125\n",
      "126\n",
      "127\n",
      "128\n",
      "129\n",
      "130\n",
      "131\n",
      "132\n",
      "133\n",
      "134\n",
      "135\n",
      "136\n",
      "137\n",
      "138\n",
      "139\n",
      "140\n",
      "141\n",
      "142\n",
      "143\n",
      "144\n",
      "145\n",
      "146\n",
      "147\n",
      "148\n",
      "149\n",
      "150\n",
      "151\n",
      "152\n",
      "153\n",
      "154\n",
      "155\n",
      "156\n",
      "157\n",
      "158\n",
      "159\n",
      "160\n",
      "161\n",
      "162\n",
      "163\n",
      "164\n",
      "165\n",
      "166\n",
      "167\n",
      "168\n",
      "169\n",
      "170\n",
      "171\n",
      "172\n",
      "173\n",
      "174\n",
      "175\n",
      "176\n",
      "177\n",
      "178\n",
      "179\n",
      "180\n",
      "181\n",
      "182\n",
      "183\n",
      "184\n",
      "185\n",
      "186\n",
      "187\n",
      "188\n",
      "189\n",
      "190\n",
      "191\n",
      "192\n",
      "193\n",
      "194\n",
      "195\n",
      "196\n",
      "197\n",
      "198\n",
      "199\n",
      "200\n",
      "201\n",
      "202\n",
      "203\n",
      "204\n",
      "205\n",
      "206\n",
      "207\n",
      "208\n",
      "209\n",
      "210\n",
      "211\n",
      "212\n",
      "213\n",
      "214\n",
      "215\n",
      "216\n",
      "217\n"
     ]
    }
   ],
   "source": [
    "'''\n",
    "replaces all items names to be formatted for Requests, due to isses this was not a complete list as it does not include all forigne language characters\n",
    "'''\n",
    "for fileno in range(0,len(onlyfiles)):\n",
    "    with open(\"marketplaceFiles/rawdata/\"+onlyfiles[fileno], encoding='utf8') as f:\n",
    "        content=f.readlines()\n",
    "    fixedlist=[]\n",
    "    for x in content:\n",
    "        a=str(x)\n",
    "        b1=a.replace(\"%\",\"%25\")\n",
    "        b2=b1.replace(\" \", \"%20\")\n",
    "        b3=b2.replace(\",\",\"%2C\")\n",
    "        b4=b3.replace(\"'\",\"%27\")\n",
    "        b5=b4.replace(\"(\",\"%28\")\n",
    "        b6=b5.replace(\")\",\"%29\")\n",
    "        b7=b6.replace(\"&\",\"%26\")\n",
    "        b8=b7.replace(\"^\",\"%5E\")\n",
    "        b9=b8.replace(\":\",\"%3A\")\n",
    "        b10=b9.replace(\";\",\"%3B\")\n",
    "        b11=b10.replace(\"\\n\",\"\")\n",
    "        fixedlist.append(b11)\n",
    "\n",
    "    print(fileno)\n",
    "    with open('marketplaceFiles/fixedData/'+onlyfiles[fileno], 'w') as filehandle:\n",
    "        for listitem in fixedlist:\n",
    "            filehandle.write('%s\\n' % str(listitem))\n",
    "\n",
    "    "
   ]
  }
 ],
 "metadata": {
  "kernelspec": {
   "display_name": "Python 3",
   "language": "python",
   "name": "python3"
  },
  "language_info": {
   "codemirror_mode": {
    "name": "ipython",
    "version": 3
   },
   "file_extension": ".py",
   "mimetype": "text/x-python",
   "name": "python",
   "nbconvert_exporter": "python",
   "pygments_lexer": "ipython3",
   "version": "3.8.3"
  }
 },
 "nbformat": 4,
 "nbformat_minor": 4
}
