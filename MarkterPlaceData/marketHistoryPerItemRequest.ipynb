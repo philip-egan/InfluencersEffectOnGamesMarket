{
 "cells": [
  {
   "cell_type": "code",
   "execution_count": 1,
   "metadata": {},
   "outputs": [],
   "source": [
    "import threading\n",
    "import requests\n",
    "import re\n",
    "import json\n",
    "import time\n",
    "import os\n",
    "from os import listdir\n",
    "from os.path import isfile, join"
   ]
  },
  {
   "cell_type": "markdown",
   "metadata": {},
   "source": [
    "this collects the market data for games. this was ran a couple times fully automated but then done in batches to collect missed items due to outages / failed collection\n",
    "This running is extremely long, and needs to be monitored due to requests failing due to steam denying seemingly at random. "
   ]
  },
  {
   "cell_type": "code",
   "execution_count": 2,
   "metadata": {},
   "outputs": [
    {
     "name": "stdout",
     "output_type": "stream",
     "text": [
      "979530.txt\n"
     ]
    }
   ],
   "source": [
    "#cookies are specific to each users, and you must be logged into steam while running or request will fail\n",
    "cookie = {'steamLogin': '76561198081625256%7C%7C563447C3D53A5C9CA44095FB6750617BE24009CC','steamRememberLogin': '76561198081625256%7C%7Ca3e918952333b4936851e2ca3018fafb','sessionid': 'dce20a818aa523503ddc17e4','steamMachineAuth76561198081625256':'7E87AD6DC60EC00D5CFA9271DCF0BA41EBACD882'}    \n",
    "onlyfiles = [f for f in listdir(\"marketplaceFiles/fixedData/\") if isfile(join(\"marketplaceFiles/fixedData/\", f))]\n",
    "count=222\n",
    "print(onlyfiles[count])"
   ]
  },
  {
   "cell_type": "code",
   "execution_count": 3,
   "metadata": {},
   "outputs": [
    {
     "name": "stdout",
     "output_type": "stream",
     "text": [
      "232090\n",
      "225\n"
     ]
    }
   ],
   "source": [
    "fixedlist=[]\n",
    "for x in onlyfiles:\n",
    "    a=str(x)\n",
    "    b1=a.replace(\".txt\",\"\")\n",
    "    fixedlist.append(b1)\n",
    "print(fixedlist[58])\n",
    "print(len(onlyfiles))"
   ]
  },
  {
   "cell_type": "markdown",
   "metadata": {},
   "source": [
    "make all the files needed"
   ]
  },
  {
   "cell_type": "code",
   "execution_count": 4,
   "metadata": {},
   "outputs": [
    {
     "ename": "FileExistsError",
     "evalue": "[WinError 183] Cannot create a file when that file already exists: 'marketplaceFiles/priceHistory/238460'",
     "output_type": "error",
     "traceback": [
      "\u001b[1;31m---------------------------------------------------------------------------\u001b[0m",
      "\u001b[1;31mFileExistsError\u001b[0m                           Traceback (most recent call last)",
      "\u001b[1;32m<ipython-input-4-247161cae05e>\u001b[0m in \u001b[0;36m<module>\u001b[1;34m\u001b[0m\n\u001b[0;32m      2\u001b[0m \u001b[1;32mfor\u001b[0m \u001b[0mname\u001b[0m \u001b[1;32min\u001b[0m \u001b[0mrange\u001b[0m\u001b[1;33m(\u001b[0m\u001b[1;36m59\u001b[0m\u001b[1;33m,\u001b[0m\u001b[1;36m223\u001b[0m\u001b[1;33m)\u001b[0m\u001b[1;33m:\u001b[0m\u001b[1;33m\u001b[0m\u001b[1;33m\u001b[0m\u001b[0m\n\u001b[0;32m      3\u001b[0m     \u001b[0mfname\u001b[0m\u001b[1;33m=\u001b[0m\u001b[0mfixedlist\u001b[0m\u001b[1;33m[\u001b[0m\u001b[0mname\u001b[0m\u001b[1;33m]\u001b[0m\u001b[1;33m\u001b[0m\u001b[1;33m\u001b[0m\u001b[0m\n\u001b[1;32m----> 4\u001b[1;33m     \u001b[0mos\u001b[0m\u001b[1;33m.\u001b[0m\u001b[0mmkdir\u001b[0m\u001b[1;33m(\u001b[0m\u001b[0mos\u001b[0m\u001b[1;33m.\u001b[0m\u001b[0mpath\u001b[0m\u001b[1;33m.\u001b[0m\u001b[0mjoin\u001b[0m\u001b[1;33m(\u001b[0m\u001b[0mrootpath\u001b[0m\u001b[1;33m,\u001b[0m\u001b[0mfname\u001b[0m\u001b[1;33m)\u001b[0m\u001b[1;33m)\u001b[0m\u001b[1;33m\u001b[0m\u001b[1;33m\u001b[0m\u001b[0m\n\u001b[0m",
      "\u001b[1;31mFileExistsError\u001b[0m: [WinError 183] Cannot create a file when that file already exists: 'marketplaceFiles/priceHistory/238460'"
     ]
    }
   ],
   "source": [
    "rootpath=\"marketplaceFiles/priceHistory/\"\n",
    "for name in range(59,223):\n",
    "    fname=fixedlist[name]\n",
    "    os.mkdir(os.path.join(rootpath,fname))"
   ]
  },
  {
   "cell_type": "code",
   "execution_count": null,
   "metadata": {},
   "outputs": [],
   "source": [
    "my_file = open(\"marketplaceFiles/appIds-Copy1.txt\", \"r\")\n",
    "content = my_file.read()\n",
    "content_list = content.split(\"\\n\")\n",
    "my_file.close()"
   ]
  },
  {
   "cell_type": "code",
   "execution_count": 5,
   "metadata": {},
   "outputs": [],
   "source": [
    "'''\n",
    "collects market data from request and save it tofile\n",
    "'''\n",
    "def priceHistory1(start,end, delay,step,tid,count):\n",
    "    with open(\"marketplaceFiles/fixedData/\"+str(onlyfiles[k])+\".txt\",encoding=\"utf8\") as f:\n",
    "        itemNames = f.read().splitlines()\n",
    "    for x in range(start,end,step): \n",
    "        request = requests.get('http://steamcommunity.com/market/pricehistory/?country=IE&currency=3&appid='+str(onlyfiles[k])+'&market_hash_name='+str(itemNames[x]), cookies=cookie)\n",
    "        data = json.loads(request.text)\n",
    "        data1=data[\"prices\"]\n",
    "        print(\"h2 \"+\" \"+str(x))\n",
    "        with open(\"marketplaceFiles/priceHistory/\"+str(onlyfiles[k])+\"/\"+str(x)+\".txt\", 'w+',encoding='utf-8') as filehandle:\n",
    "                for item in data1:\n",
    "                    filehandle.write('%s\\n' % item)\n",
    "        time.sleep(delay)\n",
    "              "
   ]
  },
  {
   "cell_type": "code",
   "execution_count": 6,
   "metadata": {},
   "outputs": [],
   "source": [
    "def priceHistory2(start,end, delay,step,tid,count):\n",
    "    with open(\"marketplaceFiles/fixedData/\"+str(onlyfiles[k])+\".txt\",encoding=\"utf8\") as f:\n",
    "        itemNames = f.read().splitlines()\n",
    "    for x in range(start,end,step): \n",
    "        request = requests.get('http://steamcommunity.com/market/pricehistory/?country=IE&currency=3&appid='+str(onlyfiles[k])+'&market_hash_name='+str(itemNames[x]), cookies=cookie)\n",
    "        data = json.loads(request.text)\n",
    "        data1=data[\"prices\"]\n",
    "        print(\"h2 \"+\" \"+str(x))\n",
    "        with open(\"marketplaceFiles/priceHistory/\"+str(onlyfiles[k])+\"/\"+str(x)+\".txt\", 'w+',encoding='utf-8') as filehandle:\n",
    "                for item in data1:\n",
    "                    filehandle.write('%s\\n' % item)\n",
    "        time.sleep(delay)"
   ]
  },
  {
   "cell_type": "code",
   "execution_count": 7,
   "metadata": {},
   "outputs": [],
   "source": [
    "def priceHistory3(start,end, delay,step,tid,count):\n",
    "    with open(\"marketplaceFiles/fixedData/\"+str(onlyfiles[k])+\".txt\",encoding=\"utf8\") as f:\n",
    "        itemNames = f.read().splitlines()\n",
    "    for x in range(start,end,step): \n",
    "        request = requests.get('http://steamcommunity.com/market/pricehistory/?country=IE&currency=3&appid='+str(onlyfiles[k])+'&market_hash_name='+str(itemNames[x]), cookies=cookie)\n",
    "        data = json.loads(request.text)\n",
    "        data1=data[\"prices\"]\n",
    "        print(\"h2 \"+\" \"+str(x))\n",
    "        with open(\"marketplaceFiles/priceHistory/\"+str(onlyfiles[k])+\"/\"+str(x)+\".txt\", 'w+',encoding='utf-8') as filehandle:\n",
    "                for item in data1:\n",
    "                    filehandle.write('%s\\n' % item)\n",
    "        time.sleep(delay)"
   ]
  },
  {
   "cell_type": "code",
   "execution_count": 26,
   "metadata": {
    "scrolled": true
   },
   "outputs": [
    {
     "name": "stdout",
     "output_type": "stream",
     "text": [
      "h3  26989\n",
      "h3  26990\n",
      "h3  26991\n",
      "h3  26992\n",
      "h3  26993\n",
      "h3  26994\n",
      "h3  26995\n",
      "h3  26996\n",
      "h3  26997\n",
      "h3  26998\n",
      "h3  26999\n",
      "Done!\n"
     ]
    }
   ],
   "source": [
    "'''\n",
    "DO NOT RUN. this will run for 20 + hours\n",
    "3 different methods as the quickly find issues\n",
    "args ( start,end,deplay,step,tid,count)\n",
    "'''\n",
    "for k in range(0,len(content_list)):            # creating thread\n",
    "    t1 = threading.Thread(target=priceHistory1, args=(0,len(onlyfiles[k]),6,6,1,count))\n",
    "\n",
    "    t2 = threading.Thread(target=priceHistory1,  args=(1,len(onlyfiles[k]),6,6,1,count))\n",
    "\n",
    "    t3 = threading.Thread(target=priceHistory2,  args=(2,len(onlyfiles[k]),6,6,1,count))\n",
    "\n",
    "    t4 = threading.Thread(target=priceHistory2,  args=(3,len(onlyfiles[k]),6,6,1,count))\n",
    "\n",
    "    t5 = threading.Thread(target=priceHistory3,  args=(4,len(onlyfiles[k]),6,6,1,count))\n",
    "\n",
    "    t6 = threading.Thread(target=priceHistory3,  args=(5,len(onlyfiles[k]),6,6,1,count))\n",
    "\n",
    "    t1.start()\n",
    "    time.sleep(2)\n",
    "    t2.start()\n",
    "    time.sleep(1)\n",
    "    t3.start()\n",
    "    time.sleep(2)\n",
    "    t4.start()\n",
    "    time.sleep(1)\n",
    "    t5.start()\n",
    "    time.sleep(2)\n",
    "    t6.start()\n",
    "\n",
    "    t1.join()\n",
    "    t2.join()\n",
    "    t3.join()\n",
    "    t4.join()\n",
    "    t5.join()\n",
    "    t6.join()\n",
    "    # both threads completely executed\n",
    "    print(\"Done!\")"
   ]
  },
  {
   "cell_type": "code",
   "execution_count": null,
   "metadata": {},
   "outputs": [],
   "source": []
  }
 ],
 "metadata": {
  "kernelspec": {
   "display_name": "Python 3",
   "language": "python",
   "name": "python3"
  },
  "language_info": {
   "codemirror_mode": {
    "name": "ipython",
    "version": 3
   },
   "file_extension": ".py",
   "mimetype": "text/x-python",
   "name": "python",
   "nbconvert_exporter": "python",
   "pygments_lexer": "ipython3",
   "version": "3.8.3"
  }
 },
 "nbformat": 4,
 "nbformat_minor": 4
}
