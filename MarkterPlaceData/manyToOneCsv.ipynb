{
 "cells": [
  {
   "cell_type": "code",
   "execution_count": 1,
   "metadata": {},
   "outputs": [],
   "source": [
    "import csv\n",
    "import threading\n",
    "import pandas as pd\n",
    "from os import listdir\n",
    "from os.path import isfile, join\n",
    "import matplotlib.pyplot as plt\n",
    "from pathlib import Path"
   ]
  },
  {
   "cell_type": "code",
   "execution_count": 333,
   "metadata": {},
   "outputs": [
    {
     "name": "stdout",
     "output_type": "stream",
     "text": [
      "7\n"
     ]
    }
   ],
   "source": [
    "'''\n",
    "onlyfiles is a list of all files from the given file. this is dont to stop extreme running times\n",
    "'''\n",
    "onlyfiles = [f for f in listdir(\"marketplaceFiles/marketcsv/1567030/\") if isfile(join(\"marketplaceFiles/marketcsv/1567030/\", f))]\n",
    "print(len(onlyfiles))"
   ]
  },
  {
   "cell_type": "code",
   "execution_count": 2,
   "metadata": {},
   "outputs": [],
   "source": [
    "my_file = open(\"marketplaceFiles/appIds-Copy1.txt\", \"r\")\n",
    "content = my_file.read()\n",
    "content_list = content.split(\"\\n\")\n",
    "my_file.close()"
   ]
  },
  {
   "cell_type": "code",
   "execution_count": 338,
   "metadata": {},
   "outputs": [],
   "source": [
    "def sheetCompiler(start,round,k):\n",
    "    for count in range(start,len(onlyfiles),240):\n",
    "        isFile = Path(\"marketplaceFiles/marketcsv/\"+str(content_list[fileN])+\"/\"+onlyfiles[count])\n",
    "        if not isFile.exists():\n",
    "            print(\"file does not exist\")\n",
    "            break\n",
    "        df1 = pd.read_csv(\"marketplaceFiles/marketcsv/\"+str(content_list[fileN])+\"/\"+str(onlyfiles[count]))\n",
    "        df1[\"date\"]=pd.to_datetime(df1[\"date\"])\n",
    "        df1=df1.groupby(df1[\"date\"]).agg({str(onlyfiles[count]):sum})\n",
    "        end =start +9\n",
    "        if (start==0):\n",
    "            end =7\n",
    "        for fileno in range((start+1),(end)):\n",
    "            df2 = pd.read_csv(\"marketplaceFiles/marketcsv/\"+str(content_list[fileN])+\"/\"+onlyfiles[fileno])\n",
    "            df2[\"date\"]=pd.to_datetime(df2[\"date\"])\n",
    "            df2=df2.groupby(df2[\"date\"]).agg({str(onlyfiles[fileno]):sum})\n",
    "            df1=pd.concat([df1,df2], axis=1)                \n",
    "        df1=df1.round(2)\n",
    "        df1=df1.drop_duplicates()\n",
    "        df1[\"dailyTotal_\"+str(round)]=df1.sum(axis=1)\n",
    "        df1.to_csv(\"marketplaceFiles/marketCompleteSheets/\"+str(content_list[fileN])+\"/\"+str(content_list[fileN])+\"_\"+str(round)+\".csv\",index=True)\n",
    "        print(round)\n",
    "        round=round+24\n",
    "        start=start+240\n",
    "        "
   ]
  },
  {
   "cell_type": "code",
   "execution_count": 339,
   "metadata": {
    "scrolled": true
   },
   "outputs": [
    {
     "name": "stdout",
     "output_type": "stream",
     "text": [
      "0\n",
      "done\n"
     ]
    }
   ],
   "source": [
    "'''\n",
    "threading numbers are limited by my hardware\n",
    "'''\n",
    "for k in range(0,len(content_list)):\n",
    "    x=0\n",
    "    t1 = threading.Thread(target=sheetCompiler, args=(x,0,k))\n",
    "    t2 = threading.Thread(target=sheetCompiler, args=(x+10,1,k))\n",
    "    t3 = threading.Thread(target=sheetCompiler, args=(x+20,2,k))\n",
    "    t4 = threading.Thread(target=sheetCompiler, args=(x+30,3,k))\n",
    "    t5 = threading.Thread(target=sheetCompiler, args=(x+40,4,k))\n",
    "    t6 = threading.Thread(target=sheetCompiler, args=(x+50,5,k))\n",
    "    t7 = threading.Thread(target=sheetCompiler, args=(x+60,6,k))\n",
    "    t8 = threading.Thread(target=sheetCompiler, args=(x+70,7,k))\n",
    "    t9 = threading.Thread(target=sheetCompiler, args=(x+80,8,k))\n",
    "    t10= threading.Thread(target=sheetCompiler, args=(x+90,9,k))\n",
    "    t11 = threading.Thread(target=sheetCompiler, args=(x+100,10,k))\n",
    "    t12 = threading.Thread(target=sheetCompiler, args=(x+110,11,k))\n",
    "    t13 = threading.Thread(target=sheetCompiler, args=(x+120,12,k))\n",
    "    t14 = threading.Thread(target=sheetCompiler, args=(x+130,13,k))\n",
    "    t15 = threading.Thread(target=sheetCompiler, args=(x+140,14,k))\n",
    "    t16 = threading.Thread(target=sheetCompiler, args=(x+150,15,k))\n",
    "    t17 = threading.Thread(target=sheetCompiler, args=(x+160,16,k))\n",
    "    t18 = threading.Thread(target=sheetCompiler, args=(x+170,17,k))\n",
    "    t19 = threading.Thread(target=sheetCompiler, args=(x+180,18,k))\n",
    "    t20 = threading.Thread(target=sheetCompiler, args=(x+190,19,k))\n",
    "    t21 = threading.Thread(target=sheetCompiler, args=(x+200,20,k))\n",
    "    t22 = threading.Thread(target=sheetCompiler, args=(x+210,21,k))\n",
    "    t23 = threading.Thread(target=sheetCompiler, args=(x+220,22,k))\n",
    "    t24 = threading.Thread(target=sheetCompiler, args=(x+230,23,k))\n",
    "\n",
    "\n",
    "    t1.start()\n",
    "    t2.start()\n",
    "    t3.start()\n",
    "    t4.start()\n",
    "    t5.start()\n",
    "    t6.start()\n",
    "    t7.start()\n",
    "    t8.start()\n",
    "    t9.start()\n",
    "    t10.start()\n",
    "    t11.start()\n",
    "    t12.start()\n",
    "    t13.start()\n",
    "    t14.start()\n",
    "    t15.start()\n",
    "    t16.start()\n",
    "    t17.start()\n",
    "    t18.start()\n",
    "    t19.start()\n",
    "    t20.start()\n",
    "    t21.start()\n",
    "    t22.start()\n",
    "    t23.start()\n",
    "    t24.start()\n",
    "\n",
    "    t1.join()\n",
    "    t2.join()\n",
    "    t3.join()\n",
    "    t4.join()\n",
    "    t5.join()\n",
    "    t6.join()\n",
    "    t7.join()\n",
    "    t8.join()\n",
    "    t9.join()\n",
    "    t10.join()\n",
    "    t11.join()\n",
    "    t12.join()\n",
    "    t13.join()\n",
    "    t14.join()\n",
    "    t15.join()\n",
    "    t16.join()\n",
    "    t17.join()\n",
    "    t18.join()\n",
    "    t19.join()\n",
    "    t20.join()\n",
    "    t21.join()\n",
    "    t22.join()\n",
    "    t23.join()\n",
    "    t24.join()\n",
    "    print(\"done\")"
   ]
  },
  {
   "cell_type": "code",
   "execution_count": null,
   "metadata": {},
   "outputs": [],
   "source": []
  }
 ],
 "metadata": {
  "kernelspec": {
   "display_name": "Python 3",
   "language": "python",
   "name": "python3"
  },
  "language_info": {
   "codemirror_mode": {
    "name": "ipython",
    "version": 3
   },
   "file_extension": ".py",
   "mimetype": "text/x-python",
   "name": "python",
   "nbconvert_exporter": "python",
   "pygments_lexer": "ipython3",
   "version": "3.8.3"
  }
 },
 "nbformat": 4,
 "nbformat_minor": 4
}
