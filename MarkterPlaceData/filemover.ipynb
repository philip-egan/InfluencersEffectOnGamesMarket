{
 "cells": [
  {
   "cell_type": "markdown",
   "metadata": {},
   "source": [
    "this was sample code for moving files and renaming files on mass. This code was reformatted a few time through this project"
   ]
  },
  {
   "cell_type": "code",
   "execution_count": 1,
   "metadata": {},
   "outputs": [],
   "source": [
    "import shutil\n",
    "'''\n",
    "this is the frame for all moving operations and also copy operations using shutil \n",
    "this is used through the project and this is just the testing and understanding stection\n",
    "'''\n",
    "for x in range (18623,16030):\n",
    "    shutil.move(\"marketplaceFiles/priceHistory/570/\"+str(x)+\"_1.txt\",\"marketplaceFiles/priceHistory/570/\"+str(x)+\".txt\")"
   ]
  },
  {
   "cell_type": "code",
   "execution_count": null,
   "metadata": {},
   "outputs": [],
   "source": []
  }
 ],
 "metadata": {
  "kernelspec": {
   "display_name": "Python 3",
   "language": "python",
   "name": "python3"
  },
  "language_info": {
   "codemirror_mode": {
    "name": "ipython",
    "version": 3
   },
   "file_extension": ".py",
   "mimetype": "text/x-python",
   "name": "python",
   "nbconvert_exporter": "python",
   "pygments_lexer": "ipython3",
   "version": "3.8.3"
  }
 },
 "nbformat": 4,
 "nbformat_minor": 4
}
