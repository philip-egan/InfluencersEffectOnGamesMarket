{
 "cells": [
  {
   "cell_type": "code",
   "execution_count": 2,
   "metadata": {},
   "outputs": [],
   "source": [
    "import requests\n",
    "import re\n",
    "import time\n",
    "import csv\n",
    "import json\n",
    "import pandas as pd\n",
    "from bs4 import BeautifulSoup"
   ]
  },
  {
   "cell_type": "code",
   "execution_count": 3,
   "metadata": {},
   "outputs": [
    {
     "name": "stdout",
     "output_type": "stream",
     "text": [
      "440\n"
     ]
    }
   ],
   "source": [
    "'''\n",
    "list of all games in marketplace\n",
    "'''\n",
    "with open(\"marketplaceFiles/appIds-Copy1.txt\") as f:\n",
    "    ids = f.read().splitlines() \n",
    "\n",
    "print(ids[7])"
   ]
  },
  {
   "cell_type": "code",
   "execution_count": 91,
   "metadata": {},
   "outputs": [
    {
     "name": "stdout",
     "output_type": "stream",
     "text": [
      "794600\n",
      "248\n"
     ]
    }
   ],
   "source": [
    "print(str(ids[90]))\n",
    "print(len(ids))"
   ]
  },
  {
   "cell_type": "code",
   "execution_count": 104,
   "metadata": {},
   "outputs": [],
   "source": [
    "'''\n",
    "gets the items for each games\n",
    "items is a list the items will be stored in \n",
    "these items are stored in a file for later use\n",
    "'''\n",
    "items=[]\n",
    "for idx in range(0,len(ids)) :\n",
    "    for x in range(0,100000,100):\n",
    "        page = requests.get(\"https://steamcommunity.com/market/search/render/?query=&start=\"+str(x)+\"&count=100&search_descriptions=0&sort_column=popular&sort_dir=desc&appid=\"+str(ids[idx])+\"&norender=1\")\n",
    "        test = json.loads(page.text)\n",
    "        if not 'results' in test or len(test['results']) == 0:\n",
    "                break\n",
    "        for item in test[\"results\"]:\n",
    "            items.append(item[\"hash_name\"])\n",
    "        time.sleep(30)\n",
    "    with open(\"marketplaceFiles/rawdata/\"+str(ids[idx])+\".txt\", 'a+',encoding='utf-8') as filehandle:\n",
    "        for item in items:\n",
    "            filehandle.write('%s\\n' % item)"
   ]
  },
  {
   "cell_type": "code",
   "execution_count": 100,
   "metadata": {},
   "outputs": [
    {
     "data": {
      "text/plain": [
       "<Response [200]>"
      ]
     },
     "execution_count": 100,
     "metadata": {},
     "output_type": "execute_result"
    }
   ],
   "source": [
    "page = requests.get(\"https://steamcommunity.com/market/search/render/?query=&start=0&count=100&search_descriptions=0&sort_column=popular&sort_dir=desc&appid=218620&norender=1\")\n",
    "page"
   ]
  },
  {
   "cell_type": "code",
   "execution_count": 84,
   "metadata": {},
   "outputs": [
    {
     "name": "stdout",
     "output_type": "stream",
     "text": [
      "https://steamcommunity.com/market/search/render/?query=&start=600&count=100&search_descriptions=0&sort_column=popular&sort_dir=desc&appid=296300&norender=1\n"
     ]
    }
   ],
   "source": [
    "print(\"https://steamcommunity.com/market/search/render/?query=&start=\"+str(x)+\"&count=100&search_descriptions=0&sort_column=popular&sort_dir=desc&appid=\"+str(ids[])+\"&norender=1\")"
   ]
  },
  {
   "cell_type": "code",
   "execution_count": 86,
   "metadata": {},
   "outputs": [],
   "source": [
    "u=2\n",
    "with open(\"marketplaceFiles/rawdata/\"+ids[u]+\".txt\", 'a+',encoding='utf-8') as filehandle:\n",
    "    for item in items:\n",
    "        filehandle.write('%s\\n' % item)"
   ]
  },
  {
   "cell_type": "code",
   "execution_count": null,
   "metadata": {},
   "outputs": [],
   "source": []
  }
 ],
 "metadata": {
  "kernelspec": {
   "display_name": "Python 3",
   "language": "python",
   "name": "python3"
  },
  "language_info": {
   "codemirror_mode": {
    "name": "ipython",
    "version": 3
   },
   "file_extension": ".py",
   "mimetype": "text/x-python",
   "name": "python",
   "nbconvert_exporter": "python",
   "pygments_lexer": "ipython3",
   "version": "3.8.3"
  }
 },
 "nbformat": 4,
 "nbformat_minor": 4
}
