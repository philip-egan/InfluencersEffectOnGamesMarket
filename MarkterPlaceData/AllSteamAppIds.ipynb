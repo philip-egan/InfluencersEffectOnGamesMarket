{
 "cells": [
  {
   "cell_type": "code",
   "execution_count": 121,
   "metadata": {},
   "outputs": [],
   "source": [
    "import requests\n",
    "import re\n",
    "import json\n",
    "import pandas as pd\n",
    "import os.path\n",
    "from os import path"
   ]
  },
  {
   "cell_type": "markdown",
   "metadata": {},
   "source": [
    "all steam apps base link max\n",
    "https://api.steampowered.com/ISteamApps/GetAppList/v0002/\n",
    "\n",
    "    marketplace apps\n",
    "    https://steamcommunity.com/market/"
   ]
  },
  {
   "cell_type": "code",
   "execution_count": 4,
   "metadata": {},
   "outputs": [
    {
     "data": {
      "text/plain": [
       "<Response [200]>"
      ]
     },
     "execution_count": 4,
     "metadata": {},
     "output_type": "execute_result"
    }
   ],
   "source": [
    "page = requests.get(\"https://api.steampowered.com/ISteamApps/GetAppList/v0002/\")\n",
    "page"
   ]
  },
  {
   "cell_type": "code",
   "execution_count": 5,
   "metadata": {},
   "outputs": [],
   "source": [
    "test = json.loads(page.text)\n"
   ]
  },
  {
   "cell_type": "code",
   "execution_count": 6,
   "metadata": {},
   "outputs": [],
   "source": [
    "with open(\"marketplaceFiles/allApps/Apps.txt\", 'w') as filehandle:\n",
    "    json.dump(test,filehandle)"
   ]
  },
  {
   "cell_type": "code",
   "execution_count": 7,
   "metadata": {},
   "outputs": [],
   "source": [
    "df=pd.json_normalize(test[\"applist\"][\"apps\"])"
   ]
  },
  {
   "cell_type": "markdown",
   "metadata": {},
   "source": [
    "The Code below is to match jacks game names with my game names which were in the form of app id for my file system. so had to match the names to ids to send to him"
   ]
  },
  {
   "cell_type": "code",
   "execution_count": 17,
   "metadata": {},
   "outputs": [
    {
     "data": {
      "text/plain": [
       "114461"
      ]
     },
     "execution_count": 17,
     "metadata": {},
     "output_type": "execute_result"
    }
   ],
   "source": [
    "len(df)"
   ]
  },
  {
   "cell_type": "code",
   "execution_count": 96,
   "metadata": {},
   "outputs": [],
   "source": [
    "ids=df[\"appid\"].tolist()\n",
    "names = df[\"name\"].tolist()"
   ]
  },
  {
   "cell_type": "code",
   "execution_count": 97,
   "metadata": {},
   "outputs": [],
   "source": [
    "with open(\"marketplaceFiles/allApps/Appids.txt\",\"w\") as filehandle:\n",
    "        for item in ids:\n",
    "            filehandle.write(\"%s\\n\" % item)"
   ]
  },
  {
   "cell_type": "code",
   "execution_count": 98,
   "metadata": {},
   "outputs": [],
   "source": [
    "import csv\n",
    "with open('All_Games.txt') as f:\n",
    "    reader = csv.reader(f)\n",
    "    data = list(reader)"
   ]
  },
  {
   "cell_type": "code",
   "execution_count": 99,
   "metadata": {},
   "outputs": [],
   "source": [
    "data2=[]\n",
    "for x in data:\n",
    "        a=str(x)\n",
    "        b1=a.replace(\"[\",\"\")\n",
    "        b2=b1.replace(\"]\",\"\")\n",
    "        b3=b2.replace('\"','')\n",
    "        b3=b3.replace(\"'\",\"\")\n",
    "        data2.append(b3)"
   ]
  },
  {
   "cell_type": "code",
   "execution_count": 100,
   "metadata": {},
   "outputs": [],
   "source": [
    "data3=[]\n",
    "for x in data2:\n",
    "        a=str(x)\n",
    "        b3=a.strip()\n",
    "        data3.append(b3)"
   ]
  },
  {
   "cell_type": "code",
   "execution_count": 101,
   "metadata": {},
   "outputs": [],
   "source": [
    "data4=[]\n",
    "for x in data3:\n",
    "        a=str(x)\n",
    "        b3=a.replace(\"'\",\"\")\n",
    "        data4.append(b3)"
   ]
  },
  {
   "cell_type": "code",
   "execution_count": 102,
   "metadata": {
    "scrolled": true
   },
   "outputs": [
    {
     "name": "stdout",
     "output_type": "stream",
     "text": [
      "['Pieterw test app76 ( 216938 )', 'test2', 'test3', '', 'Furries & Scalies: Super Scary Halloween Spooky Times', 'Wonder Boy Returns Remix', 'Umbraseal', 'Furries & Scalies: Super Scary Halloween Spooky Times: Charity Upgrade Pack', 'Fish Duel Demo', 'Mago Demo', 'Space Slingshot VR Demo', 'NORR part I: Ace Shot', 'The Dreadful Whispers', '荒凉城市', 'Blind Spot VR / 盲点 VR', 'Now I Am There', 'Wer weiß denn sowas? - Das 2. Spiel', 'HyperCore', 'Project Torque', 'CarX Drift Racing Online - Canyon trip', 'ViviEon', 'Falco Engine', 'Arima', 'CarX Drift Racing Online - Russian Drift Style', 'CarX Drift Racing Online - Japan Fest', \"KurtzPel - Guardian Yaksha's Weapon Set\", \"KurtzPel - Guardian Yaksha's Costume Set\", \"KurtzPel - Guardian Yaksha's Undergarment\", 'KurtzPel - Vanguard Dual Sword', 'KurtzPel - Silver Wing Knights Dual Sword', \"KurtzPel - Guardian Yaksha's Dual Sword\", 'Mission Evilguy Demo', 'Dying Light - Rais Elite Bundle', 'Crime Cities', 'A pirate quartermaster', 'Strippers pack : Diamond, Allison & Zoe', 'Strippers Pack : Angie, Stacy and Alexa', 'World of Guns: VR', 'Hentai Mosaique Vip Room Arts R18', 'Sentenced', 'Urban Explorer', 'Admiral Stepinski', 'Block Granny Horror', 'ODEZIE', 'Airlock Arena', 'Underspace', 'Tsuro - The Game of The Path VR Edition', 'Zeminator', 'Einn', 'Afloat', 'Time for Quest', 'Wukong Prime: Defy', 'Wukong Prime: Cloud Walker', 'Wukong Prime: Primal Fury', 'Wukong Prime: Accessory', 'Tarzan VR', 'Space Viking Raiders VR', 'Cube DOA', 'Pizza Game Demo', 'Nekour', 'Rize of the Summonds', 'Youth Feather', 'DOA6 Seaside Eden Costume - Bass', 'DOA6 Seaside Eden Costume - Kokoro', 'DOA6 Seaside Eden Costume - Hayate', 'DOA6 Seaside Eden Costume - Leifang', 'DOA6 Seaside Eden Costume - Ayane', 'DOA6 Seaside Eden Costume - Eliot', 'DOA6 Seaside Eden Costume - La Mariposa', 'DOA6 Seaside Eden Costume - Brad Wong', 'DOA6 Seaside Eden Costume - Christie', 'DOA6 Seaside Eden Costume - Hitomi', 'DOA6 Seaside Eden Costume - Bayman', 'DOA6 Seaside Eden Costume - Rig', 'DOA6 Seaside Eden Costume - Mila', 'DOA6 Seaside Eden Costume - Marie Rose', 'DOA6 Seaside Eden Costume - Nyotengu', 'DOA6 Seaside Eden Costume - Honoka', 'DOA6 Seaside Eden Costume - Raidou', 'DOA6 Seaside Eden Costume - Diego', 'DOA6 Seaside Eden Costume - NiCO', 'DOA6 Seaside Eden Costume - Phase 4', 'DOA6 Seaside Eden Costume Set', 'DOA6 Vacation to Paradise BGM Set', 'Room 40', 'Astrologaster - Soundtrack', 'Fromto Party Crash ', 'Linked Mask', \"All That Remains: A story about a child's future\", 'Gloomy Eyes', 'Opening Song for anime - The Princess, the Stray Cat, and Matters of the Heart', 'Never Breakup', 'С15', 'Original Soundtrack for anime - The Princess, the Stray Cat, and Matters of the Heart', 'Concept Design of  anime - The Princess, the Stray Cat, and Matters of the Heart', 'Welcome To... Chichester 2 - Part 2 : No Regrets For The Future Demo', 'Otter Of My Life - Fan Pack', 'Red Ruin', 'Corpsefall', 'LoveChoice - Original Sound Tracks 2']\n",
      "['Emily Wants To Play', 'Unravel', 'MXM', 'VRChat', 'Detroit: Become Human', 'The Last of Us', 'Apex Legends', 'Grand Theft Auto V', 'RuneScape', 'Portal 2', 'SOMA', 'Phasmophobia', 'Among Us', 'Paragon', 'Rocket League', 'Miscreated', 'Unreal Tournament', 'Z1: Battle Royale', 'LawBreakers', 'Counter-Strike: Global Offensive', 'Tom Clancy', 'Call of Duty: Black Ops III', 'Rust', 'Battlefield 4', 'Evolve', 'Disc Jam', 'Black Desert Online', 'Battlefield 1', 'DayZ', 'Dead by Daylight', 'Battlerite', 'The Elder Scrolls V: Skyrim', 'PLAYERUNKNOWN', 'Hurtworld', 'Alien: Isolation', 'Resident Evil 7 biohazard', 'Outlast 2', 'Battlefield V', 'Call of Duty: Black Ops 4', 'Battlerite Royale', 'Call of Duty: Warzone', 'Roblox', 'Crucible', 'Mortal Kombat 11', 'Hyper Scape', 'Fall Guys: Ultimate Knockout', 'UNO', 'Call of Duty: Black Ops Cold War', 'Titanfall 2', 'Cyberpunk 2077', 'The Binding of Isaac: Repentance', 'Darkest Dungeon', 'Enter the Gungeon', 'SUPERHOT', 'Limbo', 'DOOM', 'No Man', 'Clustertruck', 'Destiny', 'Peggle 2', 'Super Meat Boy', 'Lovers in a Dangerous Spacetime', 'Destiny 2', 'Call of Duty: WWII', 'Star Wars Battlefront II', 'Escape from Tarkov', 'Left 4 Dead 2', 'Radical Heights', 'Realm Royale', 'Resident Evil 2', 'Brawl Stars', 'Borderlands 3', 'Risk of Rain 2', 'Red Dead Redemption 2', 'Pummel Party', 'Warframe', 'The Sims 4', 'Animal Crossing: New Horizons', 'Half-Life: Alyx', 'PAYDAY 2', 'Hades', 'GTFO', 'Spellbreak', 'Rogue Company', 'Marvel', '7 Days to Die', 'Star Wars: Squadrons', 'Assassin', 'Euro Truck Simulator 2', 'Rocket Arena', 'Raft', 'Aim Gods', 'Last Man Standing', 'Call of Duty: Black Ops II', 'We Were Here Together', 'Pacify', 'Outlast', 'Bully: Scholarship Edition', 'Trine 3: The Artifacts of Power', 'Arma 3', 'ARK: Survival Evolved', 'Deceit', 'The Wolf Among Us', 'The Walking Dead: Season Two', 'The Walking Dead: Season One', 'Tetris', 'Dark Souls III', 'The Forest', 'Blackwake', 'Scrap Mechanic', 'Life is Strange', 'Conan Exiles', 'Finding Bigfoot', 'The Walking Dead: A New Frontier', 'Undertale', 'God of War Collection', 'Until Dawn', 'Heroes of the Storm', 'Dota 2', 'Crash Bandicoot N. Sane Trilogy', 'The Beginner', 'Bloodborne', 'The Dark Pictures Anthology: Man of Medan', 'NBA 2K16', 'Bigfoot', 'Terraria', 'In Silence', 'Fitness & Health', 'INSIDE', 'Jump King', 'Duelyst', 'Layers of Fear', 'Resident Evil 4', 'Job Simulator: The 2050 Archives', 'Onward', 'Dying Light', 'Resident Evil 5', 'Friday the 13th: The Game', 'A Chair in a Room: Greenwater', 'Hearthstone', 'Injustice 2', 'Paranormal Activity: The Lost Soul', 'Sea of Thieves', 'Silent Hill', 'Resident Evil 3: Nemesis', 'The Banner Saga', 'Grand Theft Auto: San Andreas', 'Resident Evil 3', 'Final Fantasy Tactics', 'The Evil Within', 'Call of Duty: Infinite Warfare', 'God of War', 'Fishing Planet', 'Atlas', 'Marbles On Stream', 'Portal Knights', 'One Piece: World Seeker', 'F1 2019', 'Special Events', 'Star Wars Jedi: Fallen Order', 'F1 2020', 'The Dark Pictures Anthology: Little Hope', 'Crash Bandicoot 4: It', 'Blankos Block Party', 'Subnautica', 'Stardew Valley', 'Red Dead Redemption: Undead Nightmare', '60 Seconds!', 'State of Decay 2', 'Grand Theft Auto: Vice City', 'Tony Hawk', 'Indiana Jones and the Fate of Atlantis', 'Kingdom Hearts HD 1.5 + 2.5 ReMIX', 'Travian: Legends', 'Foundation', 'Subnautica: Below Zero', 'Anno 1602: Creation of a New World', 'Prince of Persia: The Sands of Time', 'World War Z', 'Two Point Hospital', 'ARK: Survival Of The Fittest', 'The Culling', 'Brawlhalla', 'Poly Bridge', 'Empyrion - Galactic Survival', 'Golf With Your Friends', 'Tanki Online', 'A Story About My Uncle', 'The Witcher 3: Wild Hunt', 'BattleBlock Theater', 'Borderlands', 'FIFA 17', 'Call of Duty: Modern Warfare Remastered', 'For Honor', 'Clash Royale', 'Crossfire', 'Paladins', 'Heavy Metal Machines', 'Mortal Kombat X', 'E3 2017', 'E3', 'Kingdoms and Castles', '8 Ball Pool', 'Hellblade: Senua', 'Juanito Arcade Mayhem', 'Forts', 'Monopoly Plus', 'West of Loathing', 'Stick Fight: The Game', 'Slime Rancher', 'World of Final Fantasy', 'Bridge Constructor Portal', 'A Way Out', 'Freeman: Guerrilla Warfare', 'Far Cry 5', 'Jurassic World Evolution', 'Warface', 'Darksiders III', 'IRONSIGHT', 'The Game Awards', 'Club Penguin', 'Call of Duty: Modern Warfare 2', 'Call of Duty: Modern Warfare 3', 'Call of Duty: Black Ops', 'SSX', 'Rules of Survival', 'Casino', 'Slots', 'Astro', 'Pinturillo 2', 'Cuphead', 'Crash Team Racing Nitro-Fueled', 'Beyond: Two Souls', 'PixArk', 'Don', 'Halo: The Master Chief Collection', 'Core', 'Dead Space 3', 'Dishonored: Death of the Outsider', 'World of Tanks', 'Gigantic', 'Warhammer: Vermintide 2', 'Remnant: From the Ashes', 'DOOM Eternal', 'Sekiro: Shadows Die Twice', 'Totally Accurate Battlegrounds', 'Game Dev Tycoon', 'Forced', 'Event0', 'Rivals of Aether', 'Mass Effect: Andromeda', 'Board Games Live', 'Democracy 3', 'Warhammer 40', 'Dofus', 'DropZone', 'Watch Dogs 2', 'The Witness', 'ShootMania Storm', 'Chivalry : Medieval Warfare', 'Shardbound', 'Quake Champions', 'Dead Cells', 'Rugrats: Studio Tour', 'Prey', 'Summoners War: Sky Arena', 'Age of Empires II: The Age of Kings', 'Age of Empires II: HD Edition', 'Master X Master', 'ARMS', 'Beyond Good & Evil', 'Pyre', 'Infinite Minigolf', 'Bus Simulator 16', 'Yu-Gi-Oh! Online', 'Uncharted: The Lost Legacy', 'Yu-Gi-Oh! Legacy of the Duelist', 'Golf It!', 'Secret World Legends', 'The Long Dark', 'NBA 2K18', 'Dragon Ball FighterZ', 'DRAGON BALL Z DOKKAN BATTLE', 'The Evil Within 2', 'Wolfenstein II: The New Colossus', 'South Park: The Fractured But Whole', 'MudRunner', 'F1 2017', 'Hand of Fate 2', 'Monster Hunter: World', 'Witch It', 'Fe', 'Kingdom Come: Deliverance', 'Demolish & Build 2018', 'Frostpunk', 'Business Tour', 'Welcome to the Game II', 'Might & Magic: Elemental Guardians', 'Vampyr', 'Board Games', 'F1 2018', 'Papers', 'Last Day of June', 'Human: Fall Flat', 'The Escapists 2', 'Wreckfest', 'Weed Shop 2', 'Out Of The Box', 'Green Hell', 'NBA 2K19', 'Shadow of the Tomb Raider', 'The Golf Club 2019 featuring PGA TOUR', 'FIFA 19', 'Yu-Gi-Oh! Duel Links', 'Fear the Wolves', 'Fallout 76', 'NBA 2K Playgrounds 2', 'Food & Drink', 'Counter-Strike: Source', 'Just Dance 2019', 'ASTRONEER', 'Star Citizen', 'Jump Force', 'Slay the Spire', 'StarCraft II', 'Card Game', 'Flash', 'Thief Simulator', 'H1Z1', 'Borderlands 2', 'Dauntless', 'TrackMania 2: Stadium', 'Team Sonic Racing', 'Yu-Gi-Oh! TRADING CARD GAME', 'RAGE 2', 'Days Gone', 'Judgment', 'Dota Underlords', 'Cris Tales', 'Forza Horizon 4', 'Penumbra: Black Plague', 'Castlevania III: Dracula', 'Asura', 'FINAL FANTASY XIV Online', 'KILL la KILL: IF', 'Descenders', 'Sea of Solitude', 'The Sinking City', 'Fight Crab', 'Ninja Gaiden II', 'Silent Hill 3', 'Castlevania: Curse of Darkness', 'Dante', 'Super Castlevania IV', 'Castlevania: Lords of Shadow', 'Dead Space', 'The Lion King', 'Street Fighter V', 'Gears 5', 'Ring Fit Adventure', 'Chernobylite', 'Oceanhorn 2: Knights of the Lost Realm', 'Luigi', 'The Lord of the Rings: The Battle for Middle-earth II', 'The Lord of the Rings: The Battle for Middle-earth', 'Retro', 'Age of Empires II: Definitive Edition', 'Makers & Crafting', 'Flight Simulator', 'Final Fantasy VII', 'Blade & Soul', 'E3 2016', 'Fallout 4', 'Choice Chamber', 'Cat Quest', 'Doki Doki Literature Club!', 'What Remains of Edith Finch', 'Castle Crashers', 'Spyro Reignited Trilogy', 'RiME', 'GRIS', 'A Plague Tale: Innocence', 'Journey', 'Uncharted 4: A Thief', 'Uncharted 3: Drake', 'Town of Salem', 'Garry', 'Just Dance 2017', 'Metin2', 'Uncharted 2: Among Thieves', 'Need For Speed: Payback', 'The Crew 2', 'Bus Simulator 18', 'Hidden Agenda', 'Layers of Fear 2', 'Little Nightmares', 'Typoman', 'Call of Cthulhu', 'The Room', 'Godfall', 'American Truck Simulator', 'Dark Souls', 'Steep', 'Albion Online', 'Bless Online', 'Ring Of Elysium', 'Roller Champions', 'DRAGON BALL Z: KAKAROT', 'Pavlov VR', 'Beat Saber', 'Not Tonight', 'Beat Cop', 'Border Officer', 'L.A. Noire', 'Blair Witch', 'Visage', 'Outlast II', 'The Adventure of a Blue-haired Girl', 'Stranded Deep', 'Crossout', 'TrackMania Turbo', 'Furi', 'Need for Speed', 'Firewatch', 'Getting Over It', 'Hyper Light Drifter', 'Celeste', 'Everybody', 'Factorio', 'TrackMania United Forever', 'Deltarune: Chapter 1', 'Dark Souls II: Scholar of the First Sin', 'The Talos Principle', 'Worms W.M.D', 'ASMR', 'Demon', 'Outer Wilds', 'Chess', 'Amnesia: The Dark Descent', 'Silent Hills', 'Devil May Cry 5', 'Metro Exodus', 'SCP - Containment Breach', 'Home Sweet Home', 'Mafia II', 'Infliction', 'Nun Massacre', 'Kindergarten', 'Duck Season', 'Suite 776', 'Untitled Goose Game', 'Bully', 'ARAYA', 'Happy Wheels', 'Bendy and the Ink Machine', 'DreadOut 2', 'Creeping Terror', 'Paranormal HK', 'Dark Deception', 'Paper Dolls Original', 'The Dark Occult', 'The Beast Inside', 'Emily Wants to Play Too', 'Babysitter Bloodbath', 'The Amazing Frog?', 'Remothered: Tormented Fathers', 'Siren Head', 'Totally Reliable Delivery Service', 'Song of Horror', 'Freddy Fazbear', 'Little Misfortune', 'Just Die Already', 'DreadOut', 'Five Nights at Freddy', 'Sally Face', 'Silver Chains', 'Chair F*cking Simulator', 'Ultimate Custom Night', 'Project Winter', 'Baldi', 'Neverending Nightmares', 'The Park', 'The Henry Stickmin Collection', 'Grounded', 'Streamer Life Simulator', 'OMORI', 'Squad', 'Darwin Project', 'Islands of Nyne: Battle Royale', 'SCUM', 'Battalion 1944', 'The Elder Scrolls Online', 'Watch Dogs: Legion', 'Horizon Zero Dawn', 'Garena Free Fire', 'Krunker', 'Ride Out Heroes', 'Plants vs. Zombies: Battle for Neighborville', 'The Pedestrian', 'Call Of Duty: Modern Warfare', 'Age of Mythology: Extended Edition', 'Dead Realm', 'PWND', 'They Are Billions', 'Old School RuneScape', 'Breakaway', 'Absolver', 'CreativeDestruction', 'SpeedRunners', 'APB Reloaded', 'Halo 5: Guardians', 'Heavy Rain', 'Breaking Point', 'Shattered Skies', 'Remember Me', 'Final Fantasy XV', 'WWE 2K17', 'Worlds Adrift', 'Hunt: Showdown', 'SpyParty', 'Batman: The Telltale Series', 'BioShock', 'Metal Gear 2: Solid Snake', 'Batman: Arkham Asylum', 'Insurgency: Sandstorm', 'Dragon Quest IV', 'Tales of Berseria', 'Splitgate: Arena Warfare', 'XERA: Survival', 'MORDHAU', 'Need for Speed: Heat', 'New World', 'Guild Wars 2', 'Deus Ex: Mankind Divided', 'Dishonored', 'Anthem', 'Overcooked!', 'Overcooked! 2', 'Keep Talking and Nobody Explodes', 'Risk: Global Domination', 'NBA 2K20', 'Wii Sports Resort', 'Captain Tsubasa: Rise of New Champions', 'Surgeon Simulator 2', 'Amnesia: Rebirth', 'Infestation: Survivor Stories', 'ABZÃ›', 'Infestation: The New Z', 'Codenames', 'Worms Revolution', 'HITMAN', 'South Park: The Stick of Truth', 'The Surge', 'Metro 2033', 'Splatoon 2', 'Kingsway', 'The Sexy Brutale', 'Portal', 'Shadow of the Colossus', 'God of War III', 'God of War II', 'Diablo IV', 'Life is Strange 2', 'Nioh 2', 'Stilt Fella', 'Over the Alps', 'Stopots', 'Mafia: Definitive Edition', 'Hand Simulator', 'Hotline Miami', 'Ashen', 'Half-Life 2', 'Planet Coaster', 'HITMAN 2', 'Boogeyman', 'Tekken 7', 'LEGO Star Wars: The Complete Saga', 'OVERKILL', 'ShellShock Live']\n"
     ]
    }
   ],
   "source": [
    "print(names[:100])\n",
    "print(data4)"
   ]
  },
  {
   "cell_type": "code",
   "execution_count": 110,
   "metadata": {},
   "outputs": [],
   "source": [
    "matching=[]\n",
    "matchingname=[]"
   ]
  },
  {
   "cell_type": "code",
   "execution_count": 111,
   "metadata": {},
   "outputs": [],
   "source": [
    "for x in range(0,len(data3)):\n",
    "    for y in range(0,len(names)):\n",
    "        if data4[x] == names[y]:\n",
    "            matching.append(ids[y])\n",
    "            matchingname.append(names[y])"
   ]
  },
  {
   "cell_type": "code",
   "execution_count": 131,
   "metadata": {},
   "outputs": [
    {
     "name": "stdout",
     "output_type": "stream",
     "text": [
      "[416590, 1225560, 438100, 1222140, 1172470, 362003, 271590, 1343400, 620, 282140, 739630, 945360, 252950, 299740, 350280, 730, 311210, 980030, 252490, 415880, 582660, 221100, 381210, 504370, 72850, 393420, 214490, 414700, 879160, 1571120, 976310, 1097150, 470220, 1091500, 1426300, 311690, 322500, 379720, 397950, 40800, 40809, 252110, 1085660, 476600, 550, 809960, 813820, 883710, 397540, 632360, 1174180, 880940, 230410, 546560, 218620, 1145360, 493520, 1399780, 251570, 227300, 1233550, 648800, 506540, 202970, 865360, 967050, 1318840, 238320, 12200, 319910, 107410, 346110, 466240, 250320, 261030, 242760, 420290, 387990, 440900, 536220, 391540, 570, 939850, 370240, 105600, 1361000, 304430, 1061090, 391720, 254700, 496240, 239140, 21690, 21699, 438740, 427760, 467660, 1172620, 237990, 12120, 952060, 268050, 292730, 380600, 374040, 928600, 1080110, 1194630, 264710, 413150, 368360, 495420, 12240, 12110, 6010, 690830, 848450, 13600, 535930, 407530, 437220, 291550, 367450, 383120, 431240, 562010, 278360, 292030, 238460, 8950, 8989, 393080, 304390, 1171000, 444090, 331360, 307780, 569480, 617440, 410900, 562810, 597220, 674940, 433340, 684410, 1222700, 773951, 552520, 648350, 291480, 606280, 10180, 10199, 115300, 42680, 42699, 42749, 42700, 268910, 960990, 976730, 1407200, 327690, 552500, 617290, 782330, 823130, 239820, 383980, 245470, 254300, 210970, 229870, 586030, 611500, 588650, 480490, 3970, 15130, 462770, 446550, 324310, 480650, 571740, 215280, 305620, 577800, 601430, 612880, 675010, 515220, 456670, 582010, 559650, 1225580, 379430, 577670, 323190, 720250, 427290, 737800, 635320, 477160, 641990, 228380, 617700, 815370, 841370, 750920, 601510, 1151340, 726590, 240, 361420, 646570, 704850, 49520, 548570, 1259420, 1046930, 1079830, 1293830, 22120, 39210, 681280, 1225590, 1151760, 1213750, 17470, 310950, 1097840, 1016800, 1235810, 813780, 377160, 359960, 593280, 501300, 204360, 493200, 683320, 752590, 638230, 334230, 446560, 550900, 646910, 515180, 1029890, 424840, 336240, 399810, 288160, 270880, 460920, 761890, 681660, 851850, 555160, 620980, 733790, 461950, 1057180, 110800, 1092660, 541470, 594330, 313120, 386180, 423230, 383870, 257850, 504230, 427520, 7200, 257510, 327030, 753640, 707140, 57300, 601150, 412020, 617160, 50409, 692100, 589590, 503580, 1197370, 837470, 505390, 466740, 622650, 945710, 726430, 332950, 1051310, 921780, 792300, 652190, 633360, 1011670, 714120, 979070, 269790, 541570, 975470, 1302800, 871720, 774861, 253330, 402020, 1089980, 962130, 1261040, 1150690, 393380, 544920, 728540, 513710, 306130, 1151640, 1408720, 1262240, 466630, 266840, 553660, 644930, 1343370, 473690, 893520, 207140, 113400, 960910, 447500, 228300, 510510, 322780, 594650, 329070, 7670, 7700, 35010, 35019, 581320, 429660, 677620, 625340, 629760, 1063730, 1284210, 205100, 728880, 341800, 1089350, 774791, 999220, 555570, 200170, 378540, 43129, 588950, 552590, 400, 532210, 1133590, 1227400, 1030840, 657200, 219150, 649950, 220, 493340, 412770, 326460]\n"
     ]
    }
   ],
   "source": [
    "print(matching)"
   ]
  },
  {
   "cell_type": "code",
   "execution_count": 132,
   "metadata": {},
   "outputs": [
    {
     "name": "stdout",
     "output_type": "stream",
     "text": [
      "14\n",
      "17\n",
      "29\n",
      "34\n",
      "40\n",
      "45\n",
      "66\n",
      "93\n",
      "95\n",
      "120\n",
      "130\n",
      "133\n",
      "138\n",
      "146\n",
      "152\n",
      "155\n",
      "156\n",
      "161\n",
      "173\n",
      "201\n",
      "218\n",
      "220\n",
      "226\n",
      "232\n",
      "235\n",
      "265\n",
      "283\n",
      "289\n",
      "300\n",
      "302\n",
      "306\n",
      "308\n",
      "309\n",
      "325\n",
      "333\n",
      "340\n",
      "342\n",
      "348\n",
      "349\n",
      "354\n",
      "359\n",
      "372\n"
     ]
    }
   ],
   "source": [
    "import shutil\n",
    "for x in range (9,len(matching)):\n",
    "    try:\n",
    "        shutil.copy(\"marketplaceFiles/actualPlayerData/csvActualPlayerData/\"+str(matching[x])+\".txt\",\"ForJack/\"+str(matchingname[x])+\".txt\")\n",
    "    except:\n",
    "        print(x)"
   ]
  },
  {
   "cell_type": "code",
   "execution_count": null,
   "metadata": {},
   "outputs": [],
   "source": []
  }
 ],
 "metadata": {
  "kernelspec": {
   "display_name": "Python 3",
   "language": "python",
   "name": "python3"
  },
  "language_info": {
   "codemirror_mode": {
    "name": "ipython",
    "version": 3
   },
   "file_extension": ".py",
   "mimetype": "text/x-python",
   "name": "python",
   "nbconvert_exporter": "python",
   "pygments_lexer": "ipython3",
   "version": "3.8.3"
  }
 },
 "nbformat": 4,
 "nbformat_minor": 4
}
