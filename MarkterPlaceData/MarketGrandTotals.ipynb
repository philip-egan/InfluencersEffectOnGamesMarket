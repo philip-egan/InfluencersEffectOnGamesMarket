{
 "cells": [
  {
   "cell_type": "markdown",
   "metadata": {},
   "source": [
    "getting all totals of each games markets\n"
   ]
  },
  {
   "cell_type": "code",
   "execution_count": 1,
   "metadata": {},
   "outputs": [],
   "source": [
    "import csv\n",
    "import threading\n",
    "import pandas as pd\n",
    "from os import listdir\n",
    "from os.path import isfile, join\n",
    "import matplotlib.pyplot as plt"
   ]
  },
  {
   "cell_type": "code",
   "execution_count": 2,
   "metadata": {},
   "outputs": [
    {
     "name": "stdout",
     "output_type": "stream",
     "text": [
      "33\n"
     ]
    }
   ],
   "source": [
    "onlyfiles2 = [f for f in listdir(\"marketplaceFiles/marketCompleteSheets/result/\") if isfile(join(\"marketplaceFiles/marketCompleteSheets/result/\", f))]\n",
    "print(len(onlyfiles2))"
   ]
  },
  {
   "cell_type": "code",
   "execution_count": 3,
   "metadata": {},
   "outputs": [
    {
     "ename": "IndexError",
     "evalue": "list index out of range",
     "output_type": "error",
     "traceback": [
      "\u001b[1;31m---------------------------------------------------------------------------\u001b[0m",
      "\u001b[1;31mIndexError\u001b[0m                                Traceback (most recent call last)",
      "\u001b[1;32m<ipython-input-3-dcda0ba47362>\u001b[0m in \u001b[0;36m<module>\u001b[1;34m\u001b[0m\n\u001b[1;32m----> 1\u001b[1;33m \u001b[0mprint\u001b[0m\u001b[1;33m(\u001b[0m\u001b[0monlyfiles2\u001b[0m\u001b[1;33m[\u001b[0m\u001b[1;36m43\u001b[0m\u001b[1;33m]\u001b[0m\u001b[1;33m)\u001b[0m\u001b[1;33m\u001b[0m\u001b[1;33m\u001b[0m\u001b[0m\n\u001b[0m",
      "\u001b[1;31mIndexError\u001b[0m: list index out of range"
     ]
    }
   ],
   "source": [
    "print(onlyfiles2[43])"
   ]
  },
  {
   "cell_type": "code",
   "execution_count": 4,
   "metadata": {},
   "outputs": [],
   "source": [
    "'''\n",
    "this will take the function that compiles the sheets into one with will give he final result\n",
    "'''\n",
    "def sheetCompiler(start,round):\n",
    "    for roundCount in range(start,len(onlyfiles2),len(onlyfiles2)):\n",
    "        df=pd.read_csv(\"marketplaceFiles/marketCompleteSheets/result/\"+str(onlyfiles2[roundCount]))\n",
    "        df[\"date\"]=pd.to_datetime(df[\"date\"])\n",
    "        df=df.groupby(df[\"date\"]).agg({str(onlyfiles2[roundCount]):sum})\n",
    "        for subCount in range(roundCount+1,len(onlyfiles2)):\n",
    "            df1=pd.read_csv(\"marketplaceFiles/marketCompleteSheets/result/\"+str(onlyfiles2[subCount]))\n",
    "            df1[\"date\"]=pd.to_datetime(df1[\"date\"])\n",
    "            df1=df1.groupby(df1[\"date\"]).agg({str(onlyfiles2[subCount]):sum})\n",
    "            df=pd.concat([df,df1], axis=1)\n",
    "            print(subCount)\n",
    "        df.to_csv(\"marketplaceFiles/marketCompleteSheets/result/EndResult/AllCompiled.csv\",index=True)\n",
    "        \n",
    "    "
   ]
  },
  {
   "cell_type": "code",
   "execution_count": 5,
   "metadata": {
    "scrolled": true
   },
   "outputs": [
    {
     "name": "stdout",
     "output_type": "stream",
     "text": [
      "1\n",
      "2\n",
      "3\n",
      "4\n",
      "5\n",
      "6\n",
      "7\n",
      "8\n",
      "9\n",
      "10\n",
      "11\n",
      "12\n",
      "13\n",
      "14\n",
      "15\n",
      "16\n",
      "17\n",
      "18\n",
      "19\n",
      "20\n",
      "21\n",
      "22\n",
      "23\n",
      "24\n",
      "25\n",
      "26\n",
      "27\n",
      "28\n",
      "29\n",
      "30\n",
      "31\n",
      "32\n",
      "done\n"
     ]
    }
   ],
   "source": [
    "x=0\n",
    "t1 = threading.Thread(target=sheetCompiler, args=(x,0))\n",
    " \n",
    "t1.start()\n",
    "   \n",
    "t1.join()\n",
    "\n",
    "print(\"done\")"
   ]
  },
  {
   "cell_type": "code",
   "execution_count": null,
   "metadata": {},
   "outputs": [],
   "source": []
  }
 ],
 "metadata": {
  "kernelspec": {
   "display_name": "Python 3",
   "language": "python",
   "name": "python3"
  },
  "language_info": {
   "codemirror_mode": {
    "name": "ipython",
    "version": 3
   },
   "file_extension": ".py",
   "mimetype": "text/x-python",
   "name": "python",
   "nbconvert_exporter": "python",
   "pygments_lexer": "ipython3",
   "version": "3.8.3"
  }
 },
 "nbformat": 4,
 "nbformat_minor": 4
}
