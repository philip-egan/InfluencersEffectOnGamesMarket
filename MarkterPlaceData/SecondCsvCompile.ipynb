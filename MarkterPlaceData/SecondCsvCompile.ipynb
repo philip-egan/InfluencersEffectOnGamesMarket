{
 "cells": [
  {
   "cell_type": "markdown",
   "metadata": {},
   "source": [
    "csvCompiling step2\n"
   ]
  },
  {
   "cell_type": "code",
   "execution_count": 43,
   "metadata": {},
   "outputs": [],
   "source": [
    "import csv\n",
    "import threading\n",
    "import pandas as pd\n",
    "from os import listdir\n",
    "from os.path import isfile, join\n",
    "import matplotlib.pyplot as plt"
   ]
  },
  {
   "cell_type": "code",
   "execution_count": 103,
   "metadata": {},
   "outputs": [
    {
     "name": "stdout",
     "output_type": "stream",
     "text": [
      "3\n"
     ]
    }
   ],
   "source": [
    "onlyfiles2 = [f for f in listdir(\"marketplaceFiles/marketCompleteSheets/1427760/\") if isfile(join(\"marketplaceFiles/marketCompleteSheets/1427760/\", f))]\n",
    "print(len(onlyfiles2))"
   ]
  },
  {
   "cell_type": "code",
   "execution_count": 104,
   "metadata": {},
   "outputs": [],
   "source": [
    "def sheetCompiler3(start,round):\n",
    "    for roundCount in range(start,len(onlyfiles2),len(onlyfiles2)):\n",
    "        df=pd.read_csv(\"marketplaceFiles/marketCompleteSheets/1427760/1427760_\"+str(roundCount)+\".csv\")\n",
    "        df[\"date\"]=pd.to_datetime(df[\"date\"])\n",
    "        df=df.groupby(df[\"date\"]).agg({\"dailyTotal_\"+str(roundCount):sum})\n",
    "        for subCount in range(roundCount+1,len(onlyfiles2)):\n",
    "            df1=pd.read_csv(\"marketplaceFiles/marketCompleteSheets/1427760/1427760_\"+str(subCount)+\".csv\")\n",
    "            df1[\"date\"]=pd.to_datetime(df1[\"date\"])\n",
    "            df1=df1.groupby(df1[\"date\"]).agg({\"dailyTotal_\"+str(subCount):sum})\n",
    "            df=pd.concat([df,df1], axis=1)\n",
    "            print(subCount)\n",
    "        df[\"GrandTotal_1427760\"] = df.sum(axis=1)\n",
    "        df.to_csv(\"marketplaceFiles/marketCompleteSheets/result/1427760_Compiled_\"+str(round)+\".csv\",index=True)\n",
    "        round=round+24\n",
    "        \n",
    "    "
   ]
  },
  {
   "cell_type": "code",
   "execution_count": 105,
   "metadata": {
    "scrolled": true
   },
   "outputs": [
    {
     "name": "stdout",
     "output_type": "stream",
     "text": [
      "1\n",
      "2\n",
      "done\n"
     ]
    }
   ],
   "source": [
    "x=0\n",
    "t1 = threading.Thread(target=sheetCompiler3, args=(x,0))\n",
    " \n",
    "t1.start()\n",
    "   \n",
    "t1.join()\n",
    "\n",
    "print(\"done\")"
   ]
  },
  {
   "cell_type": "code",
   "execution_count": null,
   "metadata": {},
   "outputs": [],
   "source": []
  }
 ],
 "metadata": {
  "kernelspec": {
   "display_name": "Python 3",
   "language": "python",
   "name": "python3"
  },
  "language_info": {
   "codemirror_mode": {
    "name": "ipython",
    "version": 3
   },
   "file_extension": ".py",
   "mimetype": "text/x-python",
   "name": "python",
   "nbconvert_exporter": "python",
   "pygments_lexer": "ipython3",
   "version": "3.8.3"
  }
 },
 "nbformat": 4,
 "nbformat_minor": 4
}
